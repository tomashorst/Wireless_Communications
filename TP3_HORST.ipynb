{
 "cells": [
  {
   "cell_type": "code",
   "execution_count": 2,
   "metadata": {},
   "outputs": [
    {
     "name": "stdout",
     "output_type": "stream",
     "text": [
      "[[-0.11951302-0.03002565j -0.16633978-0.00378771j -0.20590646+0.03213096j\n",
      "  ... -0.19266062-0.6909949j  -0.21929658-0.63927758j\n",
      "  -0.24041227-0.59043801j]\n",
      " [-0.03227397-0.11604732j -0.07289313-0.08553665j -0.10798474-0.04587161j\n",
      "  ... -0.27433318-0.79229858j -0.2975771 -0.74936408j\n",
      "  -0.31427334-0.70752099j]\n",
      " [ 0.05097152-0.20715541j  0.01819219-0.17273322j -0.01079388-0.1297282j\n",
      "  ... -0.34950825-0.85936944j -0.36946363-0.82554283j\n",
      "  -0.38176973-0.79115839j]\n",
      " ...\n",
      " [ 0.26557285-0.82462525j  0.25919041-0.66350866j  0.25071603-0.48344438j\n",
      "  ... -0.46880894+0.37586773j -0.3880489 +0.35138115j\n",
      "  -0.28792032+0.31384223j]\n",
      " [ 0.1557032 -0.86744126j  0.16295033-0.69818314j  0.16837287-0.51024067j\n",
      "  ... -0.34523119+0.48535255j -0.27032878+0.44825267j\n",
      "  -0.17497769+0.39921806j]\n",
      " [ 0.03876507-0.89480163j  0.06148464-0.72109286j  0.08263439-0.52904432j\n",
      "  ... -0.22835214+0.58590311j -0.16147773+0.5374104j\n",
      "  -0.07297877+0.47820619j]]\n"
     ]
    }
   ],
   "source": [
    "#Librerias\n",
    "import numpy as np\n",
    "import matplotlib.pyplot as plt\n",
    "import scipy as sp \n",
    "#Utilizando scipy.io.loadmat leeré el archivo .mat\n",
    "import scipy.io\n",
    "import scipy.special as sps\n",
    "\n",
    "canal = scipy.io.loadmat('canal.mat')\n",
    "#Obteniendo la información del archivo .mat\n",
    "#Quiero mi canal contenga la matriz de 1000x1000, por lo que utilizo debería eliminar lo demás\n",
    "canal = canal['h0']\n",
    "print(canal)\n"
   ]
  },
  {
   "cell_type": "markdown",
   "metadata": {},
   "source": [
    "”canal.mat” contiene una matriz de 1000 × 1000 puntos cada uno de los cuales representa la respuesta h0 (flat fading) de un canal inalambrico para distintos puntos de un mapa geografico cartesiano. La distancia entre puntos contiguos es de 1 cm."
   ]
  },
  {
   "cell_type": "code",
   "execution_count": 4,
   "metadata": {},
   "outputs": [
    {
     "name": "stdout",
     "output_type": "stream",
     "text": [
      "Error en el simbolo  99\n",
      "Error en el simbolo  102\n",
      "Error en el simbolo  123\n",
      "Error en el simbolo  160\n",
      "Error en el simbolo  219\n",
      "Error en el simbolo  227\n",
      "Error en el simbolo  329\n",
      "Error en el simbolo  334\n",
      "Error en el simbolo  355\n",
      "Error en el simbolo  396\n",
      "Error en el simbolo  428\n",
      "Error en el simbolo  431\n",
      "Error en el simbolo  458\n",
      "Error en el simbolo  477\n",
      "Error en el simbolo  505\n",
      "Error en el simbolo  605\n",
      "Error en el simbolo  609\n",
      "Error en el simbolo  623\n",
      "Error en el simbolo  625\n",
      "Error en el simbolo  651\n",
      "Error en el simbolo  692\n",
      "Error en el simbolo  820\n",
      "Error en el simbolo  829\n",
      "Error en el simbolo  955\n",
      "Error en el simbolo  997\n",
      "Fallaron un total de : 25\n"
     ]
    }
   ],
   "source": [
    "SNR = 20\n",
    "Eb = 1  # energia de bit\n",
    "N0 = Eb / SNR\n",
    "\n",
    "#Generando la secuencia de bits aleatorios\n",
    "\n",
    "#Con una semilla, porque quiero que sea reproducible\n",
    "# np.random.seed(0)\n",
    "\n",
    "Nsimbol = 1000                  #Número de símbolos a transmitir\n",
    "N = 1000                        #Número de muestras del canal\n",
    "bits = np.random.randint(0,2,Nsimbol)\n",
    "#Quiero tener 1 y -1, entonces a los 0 los cambio por -1\n",
    "bits[bits==0] = -1\n",
    "#Generando la secuencia de simbolos BPSK, con una potencia de sqrt(Eb)\n",
    "simbolos = np.sign(bits)*np.sqrt(Eb)\n",
    "#Al tener flat fading y al concocer perfectamente h0\n",
    "\n",
    "multiplicacion = np.zeros(N, dtype=complex)\n",
    "#Quiero ir moviendome por el canal de manera random para ir multiplicando por los simbolos\n",
    "h0 = np.zeros(N, dtype=complex)\n",
    "\n",
    "for i in range(N):\n",
    "    indice1 = np.random.randint(0,1000)\n",
    "    indice2 = np.random.randint(0,1000)\n",
    "    multiplicacion[i] = canal[indice1,indice2]*simbolos[i]\n",
    "    h0[i] = canal[indice1,indice2]\n",
    "\n",
    "#Generando el ruido\n",
    "wr = np.random.normal(0, np.sqrt(Eb / (2 * SNR)))\n",
    "wi = np.random.normal(0, np.sqrt(Eb / (2 * SNR)))\n",
    "w = wr + 1j * wi\n",
    "\n",
    "y = multiplicacion + w*np.ones(N)                   #Señal recibida\n",
    "r = np.real((np.conjugate(h0) / np.abs(h0)) * y)    #Estadistico suficiente\n",
    "\n",
    "#Para calcular la probabilidad de error\n",
    "#Si el r es menor a 0, entonces es -1, si es mayor a 0, entonces es 1\n",
    "#Si el r es menor a 0 y el simbolo es 1, entonces es error\n",
    "#Si el r es mayor a 0 y el simbolo es -1, entonces es error\n",
    "Nro_errores = 0\n",
    "x_estimado = np.zeros(Nsimbol)\n",
    "for i in range(N):\n",
    "    if r[i] < 0:\n",
    "        x_estimado[i] = -1\n",
    "        if simbolos[i] == 1:\n",
    "            Nro_errores += 1\n",
    "            print(\"Error en el simbolo \", i)\n",
    "    elif r[i] > 0:\n",
    "        x_estimado[i] = 1\n",
    "        if simbolos[i] == -1:\n",
    "            Nro_errores += 1\n",
    "            print(\"Error en el simbolo \", i)\n",
    "print(\"Fallaron un total de :\",Nro_errores)\n"
   ]
  },
  {
   "cell_type": "markdown",
   "metadata": {},
   "source": [
    "Si cambio el randomseed o la SNR, cambiará el nro de fallos..."
   ]
  },
  {
   "cell_type": "code",
   "execution_count": 61,
   "metadata": {},
   "outputs": [
    {
     "name": "stdout",
     "output_type": "stream",
     "text": [
      "El valor esperado de |canal|^2 es:  (1.0000000000000007+0j)\n"
     ]
    }
   ],
   "source": [
    "#Quiero saber el valor esperado de |canal|^2, para esto hallo |canal|^2 componente a componente\n",
    "canal_cuadrado = np.zeros((1000,1000), dtype=complex)\n",
    "for i in range(1000):\n",
    "    for j in range(1000):\n",
    "        canal_cuadrado[i,j] = np.abs(canal[i,j])**2\n",
    "\n",
    "#Calculando el valor esperado de |canal|^2\n",
    "valor_esperado = np.mean(canal_cuadrado)\n",
    "print(\"El valor esperado de |canal|^2 es: \", valor_esperado)\n"
   ]
  },
  {
   "cell_type": "code",
   "execution_count": 72,
   "metadata": {},
   "outputs": [
    {
     "name": "stdout",
     "output_type": "stream",
     "text": [
      "La BER es:  0.011301\n"
     ]
    }
   ],
   "source": [
    "#Para realmente obtener la BER, se debe calcular un valor esperado\n",
    "#Haré lo que hice arriba pero promediaré sobre realizaciones del canal(antes tenía sólo 1 realización)\n",
    "SNR = 20\n",
    "Eb = 1  # energia de bit\n",
    "N0 = Eb / SNR\n",
    "Nsimbol = 1000                  #Número de símbolos a transmitir\n",
    "N = 1000                        #Número de muestras del canal\n",
    "iteraciones = 1000\n",
    "Errores = np.zeros(iteraciones)\n",
    "for j in range(iteraciones):\n",
    "\n",
    "    bits = np.random.randint(0,2,Nsimbol)\n",
    "    bits[bits==0] = -1\n",
    "    simbolos = np.sign(bits)*np.sqrt(Eb)\n",
    "    multiplicacion = np.zeros(N, dtype=complex)\n",
    "    h0 = np.zeros(N, dtype=complex)\n",
    "\n",
    "    for i in range(N):\n",
    "        indice1 = np.random.randint(0,1000)\n",
    "        indice2 = np.random.randint(0,1000)\n",
    "        multiplicacion[i] = canal[indice1,indice2]*simbolos[i]\n",
    "        h0[i] = canal[indice1,indice2]\n",
    "\n",
    "    wr = np.random.normal(0, np.sqrt(Eb / (2 * SNR)))\n",
    "    wi = np.random.normal(0, np.sqrt(Eb / (2 * SNR)))\n",
    "    w = wr + 1j * wi\n",
    "\n",
    "    y = multiplicacion + w*np.ones(N)                   #Señal recibida\n",
    "    r = np.real((np.conjugate(h0) / np.abs(h0)) * y)    #Estadistico suficiente\n",
    "\n",
    "    x_estimado = np.zeros(Nsimbol)\n",
    "    for i in range(N):\n",
    "        if r[i] < 0:\n",
    "            x_estimado[i] = -1\n",
    "            if simbolos[i] == 1:\n",
    "                Errores[j] += 1\n",
    "        elif r[i] > 0:\n",
    "            x_estimado[i] = 1\n",
    "            if simbolos[i] == -1:\n",
    "                Errores[j] += 1\n",
    "\n",
    "BER = np.mean(Errores) / Nsimbol\n",
    "print(\"La BER es: \", BER)\n",
    "\n"
   ]
  },
  {
   "cell_type": "markdown",
   "metadata": {},
   "source": [
    "La BER es:  0.011307000000000001\n",
    "\n",
    "La BER es:  0.011301\n",
    "\n",
    "Anda por ahí\n"
   ]
  },
  {
   "cell_type": "markdown",
   "metadata": {},
   "source": [
    "### Desestimar los siguientes códigos, hasta que diga \"Probabilidad de error teórica\""
   ]
  },
  {
   "cell_type": "code",
   "execution_count": 6,
   "metadata": {},
   "outputs": [
    {
     "data": {
      "text/plain": [
       "[<matplotlib.lines.Line2D at 0x223a3b6d8e0>]"
      ]
     },
     "execution_count": 6,
     "metadata": {},
     "output_type": "execute_result"
    },
    {
     "data": {
      "image/png": "[encoded data removed]",
      "text/plain": [
       "<Figure size 432x288 with 1 Axes>"
      ]
     },
     "metadata": {
      "needs_background": "light"
     },
     "output_type": "display_data"
    }
   ],
   "source": [
    "#Ahora lo haré para distintas SNR, para así poder trazar la curva de Perror vs SNR\n",
    "SNR_dB_max = 20\n",
    "SNR_dB_min = -10\n",
    "SNR_dB_step = 1\n",
    "SNR_dB = np.arange(SNR_dB_min, SNR_dB_max + SNR_dB_step, SNR_dB_step)\n",
    "SNR = 10 ** (SNR_dB / 10)\n",
    "Eb = 1  # energia de bit\n",
    "N0 = Eb / SNR\n",
    "BER = np.zeros(len(SNR))\n",
    "Nsimbol = 1000                  #Número de símbolos a transmitir\n",
    "N = 1000                        #Número de muestras del canal\n",
    "iteraciones = 1000\n",
    "for k in range(len(SNR)):\n",
    "    Errores = np.zeros(iteraciones)\n",
    "    for j in range(iteraciones):\n",
    "        bits = np.random.randint(0,2,Nsimbol)\n",
    "        bits[bits==0] = -1\n",
    "        simbolos = np.sign(bits)*np.sqrt(Eb)\n",
    "        multiplicacion = np.zeros(N, dtype=complex)\n",
    "        h0 = np.zeros(N, dtype=complex)\n",
    "\n",
    "        for i in range(N):\n",
    "            indice1 = np.random.randint(0,N)\n",
    "            indice2 = np.random.randint(0,N)\n",
    "            multiplicacion[i] = canal[indice1,indice2]*simbolos[i]\n",
    "            h0[i] = canal[indice1,indice2]\n",
    "\n",
    "        wr = np.random.normal(0, np.sqrt(Eb / (2 * SNR[k])))\n",
    "        wi = np.random.normal(0, np.sqrt(Eb / (2 * SNR[k])))\n",
    "        w = wr + 1j * wi\n",
    "\n",
    "        y = multiplicacion + w*np.ones(N)                   #Señal recibida\n",
    "        r = np.real((np.conjugate(h0) / np.abs(h0)) * y)    #Estadistico suficiente\n",
    "\n",
    "        x_estimado = np.zeros(Nsimbol)\n",
    "        for i in range(N):\n",
    "            if r[i] < 0:\n",
    "                x_estimado[i] = -1\n",
    "                if simbolos[i] == 1:\n",
    "                    Errores[j] += 1\n",
    "            elif r[i] > 0:\n",
    "                x_estimado[i] = 1\n",
    "                if simbolos[i] == -1:\n",
    "                    Errores[j] += 1\n",
    "\n",
    "    BER[k] = np.mean(Errores) / Nsimbol\n",
    "\n",
    "plt.plot(SNR_dB, BER, 'b')"
   ]
  },
  {
   "cell_type": "code",
   "execution_count": 7,
   "metadata": {},
   "outputs": [
    {
     "data": {
      "image/png": "[encoded data removed]",
      "text/plain": [
       "<Figure size 432x288 with 1 Axes>"
      ]
     },
     "metadata": {
      "needs_background": "light"
     },
     "output_type": "display_data"
    }
   ],
   "source": [
    "plt.plot(SNR_dB, BER, 'b')\n",
    "plt.yscale('log')\n",
    "plt.xlabel('SNR (dB)')\n",
    "plt.ylabel('BER')\n",
    "plt.title('BER vs SNR')\n",
    "plt.grid()"
   ]
  },
  {
   "cell_type": "code",
   "execution_count": 8,
   "metadata": {},
   "outputs": [
    {
     "data": {
      "image/png": "[encoded data removed]",
      "text/plain": [
       "<Figure size 432x288 with 1 Axes>"
      ]
     },
     "metadata": {
      "needs_background": "light"
     },
     "output_type": "display_data"
    }
   ],
   "source": [
    "#El móvil receptor se mueva constantemente aprovechando el efecto Doppler para transmitir datos con un esquema BPSK \n",
    "PosRx_x = 0\n",
    "PosRx_y = 500\n",
    "Corrimiento_total = 50          #Centímetros\n",
    "SNR_dB_max = 5\n",
    "SNR_dB_min = -10\n",
    "SNR_dB_step = 1\n",
    "SNR_dB = np.arange(SNR_dB_min, SNR_dB_max + SNR_dB_step, SNR_dB_step)\n",
    "SNR = 10 ** (SNR_dB / 10)\n",
    "Eb = 1  # energia de bit\n",
    "N0 = Eb / SNR\n",
    "BER = np.zeros(len(SNR))\n",
    "Nsimbol = 10000                  #Número de símbolos a transmitir\n",
    "N = 1000                        #Número de muestras del canal\n",
    "iteraciones = 100\n",
    "for k in range(len(SNR)):\n",
    "    for i in range(Corrimiento_total):\n",
    "        Errores = np.zeros(iteraciones)\n",
    "        for j in range(iteraciones):\n",
    "            bits = np.random.randint(0,2,Nsimbol)\n",
    "            bits[bits==0] = -1\n",
    "            simbolos = np.sign(bits)*np.sqrt(Eb)\n",
    "            multiplicacion = np.zeros(N, dtype=complex)\n",
    "            h0 = canal[PosRx_x+i,PosRx_y]\n",
    "            for p in range(Nsimbol):\n",
    "                multiplicacion[p] = h0*simbolos[p]\n",
    "\n",
    "            wr = np.random.normal(0, np.sqrt(Eb / (2 * SNR[k])))\n",
    "            wi = np.random.normal(0, np.sqrt(Eb / (2 * SNR[k])))\n",
    "            w = wr + 1j * wi\n",
    "\n",
    "            y = multiplicacion + w*np.ones(N)                   #Señal recibida\n",
    "            r = np.real((np.conjugate(h0) / np.abs(h0)) * y)    #Estadistico suficiente\n",
    "\n",
    "            x_estimado = np.zeros(Nsimbol)\n",
    "            for i in range(N):\n",
    "                if r[i] < 0:\n",
    "                    x_estimado[i] = -1\n",
    "                    if simbolos[i] == 1:\n",
    "                        Errores[j] += 1\n",
    "                elif r[i] > 0:\n",
    "                    x_estimado[i] = 1\n",
    "                    if simbolos[i] == -1:\n",
    "                        Errores[j] += 1\n",
    "\n",
    "    BER[k] = np.mean(Errores) / Nsimbol\n",
    "\n",
    "plt.plot(SNR_dB, BER, 'b')\n",
    "plt.yscale('log')\n",
    "plt.xlabel('SNR (dB)')\n",
    "plt.ylabel('BER')\n",
    "plt.title('BER vs SNR')\n",
    "plt.grid()\n"
   ]
  },
  {
   "cell_type": "markdown",
   "metadata": {},
   "source": [
    "## Probabilidad de error teórica"
   ]
  },
  {
   "cell_type": "code",
   "execution_count": 3,
   "metadata": {},
   "outputs": [],
   "source": [
    "def Pe(SNR, L):\n",
    "    mu = np.sqrt(SNR / (1 + SNR))\n",
    "    m = []\n",
    "    for l in range(L):\n",
    "        m.append(sps.binom(L - 1 + l, l) * ((1 + mu) / 2) ** l)\n",
    "    m = np.array(m)\n",
    "    return ((1 - mu) / 2) ** L * np.sum(m, axis=0)"
   ]
  },
  {
   "cell_type": "markdown",
   "metadata": {},
   "source": [
    "# DIVERSIDAD TEMPORAL"
   ]
  },
  {
   "cell_type": "markdown",
   "metadata": {},
   "source": [
    "#### CASO L = 1, sin diversidad temporal"
   ]
  },
  {
   "cell_type": "markdown",
   "metadata": {},
   "source": [
    "Código a omitir, primero pruebo con valores del canal random, y no está bien como estoy decidiendo x_estimado en este código."
   ]
  },
  {
   "cell_type": "code",
   "execution_count": null,
   "metadata": {},
   "outputs": [],
   "source": [
    "PosRx_x = 0\n",
    "PosRx_y = 500\n",
    "Corrimiento_total = 1000          #Centímetros\n",
    "Corrimiento_step = 50\n",
    "SNR_dB_max = 0\n",
    "SNR_dB_min = -5\n",
    "SNR_dB_step = 0.5\n",
    "SNR_dB = np.arange(SNR_dB_min, SNR_dB_max + SNR_dB_step, SNR_dB_step)\n",
    "SNR = 10 ** (SNR_dB / 10)\n",
    "Eb = 1  # energia de bit\n",
    "N0 = Eb / SNR\n",
    "BER = np.zeros(len(SNR))\n",
    "N = 1000                        #Número de muestras del canal\n",
    "iteraciones = 50000\n",
    "L = [1,2,3]                     #Diversidad temporal\n",
    "a = 0                           #L[0] = 1\n",
    "Nsimbol = 1                     #Número de símbolos a transmitir\n",
    "Nsimbol = Nsimbol*L[a]          #Ahora el total de símbolos, teniendo en cuenta la repetición\n",
    "for k in range(len(SNR)):\n",
    "    for i in range(0,Corrimiento_total,Corrimiento_step):\n",
    "        Errores = np.zeros(iteraciones)\n",
    "        for j in range(iteraciones):\n",
    "            bits = np.random.randint(0,2,int(Nsimbol/L[a]))\n",
    "            bits_plus = bits\n",
    "            #Busco que los bits se repetian 2 veces\n",
    "            for t in range(L[a]-1):\n",
    "                bits_plus = np.concatenate((bits_plus,bits))\n",
    "            bits_plus[bits_plus==0] = -1\n",
    "            simbolos = np.sign(bits_plus)*np.sqrt(Eb)\n",
    "            \n",
    "            multiplicacion = np.zeros(Nsimbol, dtype=complex)\n",
    "            # h0 = canal[PosRx_x+i,PosRx_y]\n",
    "            h0 = canal[np.random.randint(0,1000,1),np.random.randint(0,1000,1)]\n",
    "            w = np.zeros(Nsimbol, dtype=complex)\n",
    "            for p in range(Nsimbol):\n",
    "                multiplicacion[p] = h0*simbolos[p]\n",
    "                wr = np.random.normal(0, np.sqrt(Eb / (2*SNR[k])))\n",
    "                wi = np.random.normal(0, np.sqrt(Eb / (2*SNR[k])))\n",
    "                w[p] = wr + 1j * wi\n",
    "\n",
    "            y = multiplicacion + w                                    #Señal recibida\n",
    "            r = np.real((np.conjugate(h0) / np.abs(h0)) * y)          #Estadistico suficiente\n",
    "\n",
    "            x_estimado = np.zeros(Nsimbol)\n",
    "            for m in range(Nsimbol):\n",
    "                if r[m] < 0:\n",
    "                    x_estimado[m] = -1\n",
    "                elif r[m] > 0:\n",
    "                    x_estimado[m] = 1\n",
    "\n",
    "            for m in range(int(Nsimbol/L[a])):\n",
    "                contador_pos = 0\n",
    "                contador_neg = 0\n",
    "                for p in range(L[a]):\n",
    "                    if(x_estimado[int(m+p*Nsimbol/L[a])] == 1):\n",
    "                        contador_pos += 1\n",
    "                    elif(x_estimado[int(m+p*Nsimbol/L[a])] == -1):\n",
    "                        contador_neg += 1\n",
    "                if(contador_pos > contador_neg):\n",
    "                    x_estimado[m] = 1\n",
    "                elif(contador_pos < contador_neg):\n",
    "                    x_estimado[m] = -1\n",
    "                #Sino me quedo con la primera repetición\n",
    "\n",
    "            #Ahora trunco x_estimado\n",
    "            x_estimado = x_estimado[0:int(Nsimbol/L[a])]\n",
    "            #Ahora comparo con los bits originales\n",
    "            for m in range(int(Nsimbol/L[a])):\n",
    "                if x_estimado[m] != bits_plus[m]:\n",
    "                    Errores[j] += 1\n",
    "            \n",
    "\n",
    "    BER[k] = np.mean(Errores) / Nsimbol\n",
    "\n",
    "plt.plot(SNR_dB, BER, 'b')\n",
    "plt.yscale('log')\n",
    "plt.xlabel('SNR (dB)')\n",
    "plt.ylabel('BER')\n",
    "plt.title('BER vs SNR con L = 1')\n",
    "plt.grid()\n",
    "plt.plot(SNR_dB, Pe(SNR, L[a]), 'r')\n",
    "plt.legend(['Simulación', 'Teórica'])\n",
    "plt.show()"
   ]
  },
  {
   "cell_type": "markdown",
   "metadata": {},
   "source": [
    "Mejor mirar el código de abajo directamente que empieza todo lo lindo, acá estaba probando a velocidad constante"
   ]
  },
  {
   "cell_type": "code",
   "execution_count": 3,
   "metadata": {},
   "outputs": [
    {
     "data": {
      "image/png": "[encoded data removed]",
      "text/plain": [
       "<Figure size 432x288 with 1 Axes>"
      ]
     },
     "metadata": {
      "needs_background": "light"
     },
     "output_type": "display_data"
    }
   ],
   "source": [
    "#El móvil receptor se mueva constantemente aprovechando el efecto Doppler para transmitir datos con un esquema BPSK \n",
    "\n",
    "iteraciones = 10000                         \n",
    "\n",
    "Corrimiento_inicial = iteraciones*10                #Centímetros\n",
    "Corrimiento_total = 1000000-Corrimiento_inicial          #Centímetros\n",
    "Corrimiento_step = 1000                                      \n",
    "SNR_dB_max = 0\n",
    "SNR_dB_min = -5\n",
    "SNR_dB_step = 0.5\n",
    "SNR_dB = np.arange(SNR_dB_min, SNR_dB_max + SNR_dB_step, SNR_dB_step)\n",
    "SNR = 10 ** (SNR_dB / 10)\n",
    "Eb = 1  # energia de bit\n",
    "N0 = Eb / SNR\n",
    "BER = np.zeros(len(SNR))\n",
    "L = [1,2,3]                     #Diversidad temporal\n",
    "a = 0                           #L[0] = 1\n",
    "Nsimbol = 1                     #Número de símbolos a transmitir\n",
    "Nsimbol = Nsimbol*L[a]          #Ahora el total de símbolos, teniendo en cuenta la repetición\n",
    "#Quiero aplanar el canal en h0, utilizando la función ravel\n",
    "h0_canal = canal.ravel()\n",
    "\n",
    "for k in range(len(SNR)):\n",
    "    for i in range(Corrimiento_inicial,Corrimiento_total,Corrimiento_step):\n",
    "        Errores = np.zeros(iteraciones)\n",
    "        for j in range(iteraciones):\n",
    "            offset = np.random.randint(0,iteraciones*10)\n",
    "            bits = np.random.randint(0,2,int(Nsimbol/L[a]))\n",
    "            bits_plus = bits\n",
    "            #Busco que los bits se repetian 2 veces\n",
    "            for t in range(L[a]-1):\n",
    "                bits_plus = np.concatenate((bits_plus,bits))\n",
    "            bits_plus[bits_plus==0] = -1\n",
    "            simbolos = np.sign(bits_plus)*np.sqrt(Eb)\n",
    "            h0 = h0_canal[offset + i]\n",
    "            multiplicacion = h0*simbolos\n",
    "            wr = np.random.normal(0, np.sqrt(Eb / (2*SNR[k])))\n",
    "            wi = np.random.normal(0, np.sqrt(Eb / (2*SNR[k])))\n",
    "            w = wr + 1j * wi\n",
    "\n",
    "            y = multiplicacion + w                                    #Señal recibida\n",
    "            r = np.real((np.conjugate(h0) / np.abs(h0)) * y)          #Estadistico suficiente\n",
    "            if r < 0:\n",
    "                x_estimado = -1\n",
    "            elif r > 0:\n",
    "                x_estimado = 1\n",
    "\n",
    "            if x_estimado != bits_plus:\n",
    "                Errores[j] += 1\n",
    "            \n",
    "    BER[k] = np.mean(Errores) / Nsimbol\n",
    "\n",
    "plt.plot(SNR_dB, BER, 'b')\n",
    "plt.yscale('log')\n",
    "plt.xlabel('SNR (dB)')\n",
    "plt.ylabel('BER')\n",
    "plt.title('BER vs SNR con L = 1')\n",
    "plt.grid()\n",
    "plt.plot(SNR_dB, Pe(SNR, L[a]), 'r')\n",
    "plt.legend(['Simulación', 'Teórica'])\n",
    "plt.show()"
   ]
  },
  {
   "cell_type": "markdown",
   "metadata": {},
   "source": [
    "## Ahora sí, las gráficas de los siguientes códigos van para el informe"
   ]
  },
  {
   "cell_type": "code",
   "execution_count": null,
   "metadata": {},
   "outputs": [],
   "source": [
    "#El móvil receptor se mueva constantemente aprovechando el efecto Doppler para transmitir datos con un esquema BPSK\n",
    "iteraciones = 70000     #Tomé tres valores distintos\n",
    "Corrimiento_inicial = iteraciones*2 \n",
    "Corrimiento_total = 1000000-Corrimiento_inicial          #Centímetros\n",
    "Corrimiento_step = int((Corrimiento_total - Corrimiento_inicial)/iteraciones)\n",
    "print(\"Corrimiento_step: \", Corrimiento_step)            #A que velocidad se mueve el receptor\n",
    "SNR_dB_max = 0\n",
    "SNR_dB_min = -10\n",
    "SNR_dB_step = 1\n",
    "SNR_dB = np.arange(SNR_dB_min, SNR_dB_max + SNR_dB_step, SNR_dB_step)\n",
    "SNR = 10 ** (SNR_dB / 10)\n",
    "Eb = 1  # energia de bit\n",
    "N0 = Eb / SNR\n",
    "BER = np.zeros(len(SNR))\n",
    "L = [1,2,3]                     #Diversidad temporal\n",
    "a = 0                           #L[0] = 1\n",
    "h0_canal = canal.ravel()\n",
    "for k in range(len(SNR)):\n",
    "    Errores = 0\n",
    "    iteracion = 0\n",
    "    for i in range(Corrimiento_inicial,Corrimiento_total+Corrimiento_step,Corrimiento_step):\n",
    "        iteracion += 1\n",
    "        offset = np.random.randint(0,Corrimiento_inicial)   #Offset para que no se repitan los bits en las iteraciones\n",
    "        bit = np.random.randint(0,2,1)\n",
    "        bit[bit==0] = -1\n",
    "        simbolo = np.sign(bit)*np.sqrt(Eb)\n",
    "        \n",
    "        h0 = np.zeros(L[a], dtype = complex)\n",
    "        y = np.zeros(L[a], dtype = complex)\n",
    "        r = np.zeros(L[a], dtype = complex)\n",
    "        for p in range(L[a]):\n",
    "            h0[p] = h0_canal[offset + i + int(Corrimiento_step/(L[a])*p)]\n",
    "            wr = np.random.normal(0, np.sqrt(Eb / (2 * SNR[k])))\n",
    "            wi = np.random.normal(0, np.sqrt(Eb / (2 * SNR[k])))\n",
    "            w = wr + 1j*wi\n",
    "        r = np.real(np.sqrt(np.abs(h0[0])**2)*simbolo + wr)\n",
    "\n",
    "        if r < 0:\n",
    "            x_estimado = -1\n",
    "        elif r > 0:\n",
    "            x_estimado = 1\n",
    "        \n",
    "        if x_estimado != simbolo:\n",
    "            Errores += 1\n",
    "    BER[k] = Errores / iteracion\n",
    "\n",
    "plt.plot(SNR_dB, BER, 'b')\n",
    "plt.yscale('log')\n",
    "plt.xlabel('SNR (dB)')\n",
    "plt.ylabel('BER')\n",
    "plt.title('BER vs SNR con L = 1')\n",
    "plt.grid()\n",
    "plt.plot(SNR_dB, Pe(SNR, L[a]), 'r')\n",
    "plt.legend(['Simulación', 'Teórica'])\n",
    "plt.show()"
   ]
  },
  {
   "cell_type": "code",
   "execution_count": 49,
   "metadata": {},
   "outputs": [
    {
     "name": "stdout",
     "output_type": "stream",
     "text": [
      "Corrimiento_step:  2\n"
     ]
    },
    {
     "data": {
      "image/png": "[encoded data removed]",
      "text/plain": [
       "<Figure size 432x288 with 1 Axes>"
      ]
     },
     "metadata": {
      "needs_background": "light"
     },
     "output_type": "display_data"
    }
   ],
   "source": [
    "#El móvil receptor se mueva constantemente aprovechando el efecto Doppler para transmitir datos \n",
    "#con un esquema BPSK con diversidad temporal, haciendo uso de un codigo de repetición\n",
    "iteraciones = 150000    #Tomé tres valores distintos\n",
    "Corrimiento_inicial = iteraciones*2 \n",
    "Corrimiento_total = 1000000-Corrimiento_inicial          #Centímetros\n",
    "Corrimiento_step = int((Corrimiento_total - Corrimiento_inicial)/iteraciones)\n",
    "print(\"Corrimiento_step: \", Corrimiento_step)            #A que velocidad se mueve el receptor\n",
    "SNR_dB_max = 0\n",
    "SNR_dB_min = -10\n",
    "SNR_dB_step = 1\n",
    "SNR_dB = np.arange(SNR_dB_min, SNR_dB_max + SNR_dB_step, SNR_dB_step)\n",
    "SNR = 10 ** (SNR_dB / 10)\n",
    "Eb = 1  # energia de bit\n",
    "N0 = Eb / SNR\n",
    "BER = np.zeros(len(SNR))\n",
    "L = [1,2,3]                     #Diversidad temporal\n",
    "a = 1                           #L[1] = 2\n",
    "h0_canal = canal.ravel()\n",
    "for k in range(len(SNR)):\n",
    "    Errores = 0\n",
    "    iteracion = 0\n",
    "    for i in range(Corrimiento_inicial,Corrimiento_total+Corrimiento_step,Corrimiento_step):\n",
    "        iteracion += 1\n",
    "        offset = np.random.randint(0,Corrimiento_inicial)       #Offset para que no se repitan los bits en las iteraciones\n",
    "        bit = np.random.randint(0,2,1)\n",
    "        bit[bit==0] = -1\n",
    "        simbolo = np.sign(bit)*np.sqrt(Eb)\n",
    "        \n",
    "        h0 = np.zeros(L[a], dtype = complex)\n",
    "        y = np.zeros(L[a], dtype = complex)\n",
    "        r = np.zeros(L[a], dtype = complex)\n",
    "        for p in range(L[a]):\n",
    "            h0[p] = h0_canal[offset + i + int(Corrimiento_step/(L[a])*p)]\n",
    "            wr = np.random.normal(0, np.sqrt(Eb / (2 * SNR[k])))\n",
    "            wi = np.random.normal(0, np.sqrt(Eb / (2 * SNR[k])))\n",
    "            w = wr + 1j*wi\n",
    "        r = np.real(np.sqrt(np.abs(h0[0])**2+np.abs(h0[1])**2)*simbolo + wr)\n",
    "\n",
    "        if r < 0:\n",
    "            x_estimado = -1\n",
    "        elif r > 0:\n",
    "            x_estimado = 1\n",
    "        \n",
    "        if x_estimado != simbolo:\n",
    "            Errores += 1\n",
    "    BER[k] = Errores / iteracion\n",
    "\n",
    "plt.plot(SNR_dB, BER, 'b')\n",
    "plt.yscale('log')\n",
    "plt.xlabel('SNR (dB)')\n",
    "plt.ylabel('BER')\n",
    "plt.title('BER vs SNR con L = 2')      \n",
    "plt.grid()\n",
    "plt.plot(SNR_dB, Pe(SNR, L[a]), 'r')\n",
    "plt.legend(['Simulación', 'Teórica'])\n",
    "plt.show()"
   ]
  },
  {
   "cell_type": "code",
   "execution_count": 39,
   "metadata": {},
   "outputs": [
    {
     "name": "stdout",
     "output_type": "stream",
     "text": [
      "Corrimiento_step:  96\n"
     ]
    },
    {
     "data": {
      "image/png": "[encoded data removed]",
      "text/plain": [
       "<Figure size 432x288 with 1 Axes>"
      ]
     },
     "metadata": {
      "needs_background": "light"
     },
     "output_type": "display_data"
    }
   ],
   "source": [
    "#El móvil receptor se mueva constantemente aprovechando el efecto Doppler para transmitir datos con un esquema BPSK \n",
    "#con diversidad temporal, haciendo uso de un codigo de repetición\n",
    "iteraciones = 10000     #Tomé tres valores distintos\n",
    "Corrimiento_inicial = iteraciones*2 \n",
    "Corrimiento_total = 1000000-Corrimiento_inicial          #Centímetros\n",
    "Corrimiento_step = int((Corrimiento_total - Corrimiento_inicial)/iteraciones)\n",
    "print(\"Corrimiento_step: \", Corrimiento_step)            #A que velocidad se mueve el receptor\n",
    "SNR_dB_max = 0\n",
    "SNR_dB_min = -10\n",
    "SNR_dB_step = 1\n",
    "SNR_dB = np.arange(SNR_dB_min, SNR_dB_max + SNR_dB_step, SNR_dB_step)\n",
    "SNR = 10 ** (SNR_dB / 10)\n",
    "Eb = 1  # energia de bit\n",
    "N0 = Eb / SNR\n",
    "BER = np.zeros(len(SNR))\n",
    "L = [1,2,3]                     #Diversidad temporal\n",
    "a = 2                           #L[2] = 3\n",
    "h0_canal = canal.ravel()\n",
    "for k in range(len(SNR)):\n",
    "    Errores = 0\n",
    "    iteracion = 0\n",
    "    for i in range(Corrimiento_inicial,Corrimiento_total+Corrimiento_step,Corrimiento_step):\n",
    "        iteracion += 1\n",
    "        offset = np.random.randint(0,Corrimiento_inicial)\n",
    "        bit = np.random.randint(0,2,1)\n",
    "        bit[bit==0] = -1\n",
    "        simbolo = np.sign(bit)*np.sqrt(Eb)\n",
    "        \n",
    "        h0 = np.zeros(L[a], dtype = complex)\n",
    "        y = np.zeros(L[a], dtype = complex)\n",
    "        r = np.zeros(L[a], dtype = complex)\n",
    "        for p in range(L[a]):\n",
    "            h0[p] = h0_canal[offset + i + int(Corrimiento_step/(L[a])*p)]\n",
    "            wr = np.random.normal(0, np.sqrt(Eb / (2 * SNR[k])))\n",
    "            wi = np.random.normal(0, np.sqrt(Eb / (2 * SNR[k])))\n",
    "            w = wr + 1j*wi\n",
    "        r = np.real(np.sqrt(np.abs(h0[0])**2+np.abs(h0[1])**2+np.abs(h0[2])**2)*simbolo + wr)\n",
    "\n",
    "        if r < 0:\n",
    "            x_estimado = -1\n",
    "        elif r > 0:\n",
    "            x_estimado = 1\n",
    "        \n",
    "        if x_estimado != simbolo:\n",
    "            Errores += 1\n",
    "    BER[k] = Errores / iteracion\n",
    "\n",
    "plt.plot(SNR_dB, BER, 'b')\n",
    "plt.yscale('log')\n",
    "plt.xlabel('SNR (dB)')\n",
    "plt.ylabel('BER')\n",
    "plt.title('BER vs SNR con L = 3')\n",
    "plt.grid()\n",
    "plt.plot(SNR_dB, Pe(SNR, L[a]), 'r')\n",
    "plt.legend(['Simulación', 'Teórica'])\n",
    "plt.show()"
   ]
  },
  {
   "cell_type": "code",
   "execution_count": 24,
   "metadata": {},
   "outputs": [
    {
     "data": {
      "text/plain": [
       "Text(0, 0.5, 'y [cm]')"
      ]
     },
     "execution_count": 24,
     "metadata": {},
     "output_type": "execute_result"
    },
    {
     "data": {
      "image/png": "[encoded data removed]",
      "text/plain": [
       "<Figure size 432x288 with 2 Axes>"
      ]
     },
     "metadata": {
      "needs_background": "light"
     },
     "output_type": "display_data"
    }
   ],
   "source": [
    "#Heatmap de 100x100 (Zoom)\n",
    "\n",
    "canalabs = canal[0:100,0:100]\n",
    "plt.imshow(np.abs(canalabs), cmap='jet', interpolation='nearest')\n",
    "plt.colorbar()\n",
    "plt.xlabel('x [cm]')\n",
    "plt.ylabel('y [cm]')"
   ]
  }
 ],
 "metadata": {
  "kernelspec": {
   "display_name": "Python 3.9.6 64-bit",
   "language": "python",
   "name": "python3"
  },
  "language_info": {
   "codemirror_mode": {
    "name": "ipython",
    "version": 3
   },
   "file_extension": ".py",
   "mimetype": "text/x-python",
   "name": "python",
   "nbconvert_exporter": "python",
   "pygments_lexer": "ipython3",
   "version": "3.9.6"
  },
  "orig_nbformat": 4,
  "vscode": {
   "interpreter": {
    "hash": "48f213e397b7a36700b2144f281e276e1601dc92f8b0cc72715fbfdb4bde8d04"
   }
  }
 },
 "nbformat": 4,
 "nbformat_minor": 2
}
